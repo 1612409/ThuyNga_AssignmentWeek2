{
 "cells": [
  {
   "cell_type": "markdown",
   "metadata": {
    "colab_type": "text",
    "id": "kL9VPYin9nOD"
   },
   "source": [
    "![](https://i.imgur.com/0AUxkXt.png)\n",
    "\n",
    "# SF Salaries Exercise \n",
    "\n",
    "Explore San Francisco city employee salary data.\n",
    "\n",
    "## Overview\n",
    "\n",
    "One way to understand how a city government works is by looking at who it employs and how its employees are compensated. This data contains the names, job title, and compensation for San Francisco city employees on an annual basis from 2011 to 2014.\n",
    "\n",
    "\n",
    "\n",
    "Just follow along and complete the tasks outlined in bold below. The tasks will get harder and harder as you go along.\n",
    "\n",
    "## Resourses\n",
    "\n",
    "[Pandas API Reference](https://pandas.pydata.org/pandas-docs/stable/api.html)\n",
    "\n",
    "[NumPy Reference](https://docs.scipy.org/doc/numpy/reference/)\n",
    "\n",
    "[Visualization with Seaborn](https://jakevdp.github.io/PythonDataScienceHandbook/04.14-visualization-with-seaborn.html)\n"
   ]
  },
  {
   "cell_type": "markdown",
   "metadata": {
    "colab_type": "text",
    "id": "ueY1PMBl9nOF"
   },
   "source": [
    "**Import libraries**"
   ]
  },
  {
   "cell_type": "code",
   "execution_count": 1,
   "metadata": {
    "colab": {},
    "colab_type": "code",
    "id": "dnwk5LCx9nOG"
   },
   "outputs": [],
   "source": [
    "import pandas as pd\n",
    "import numpy as np\n",
    "import seaborn as sns"
   ]
  },
  {
   "cell_type": "markdown",
   "metadata": {
    "colab_type": "text",
    "id": "jiOt1hEM9nOJ"
   },
   "source": [
    "**Read `Salaries.csv` as a dataframe called `sal`.**"
   ]
  },
  {
   "cell_type": "code",
   "execution_count": 2,
   "metadata": {
    "colab": {},
    "colab_type": "code",
    "id": "FtA68BoY9nOJ"
   },
   "outputs": [],
   "source": [
    "# link = \"https://s3-ap-southeast-1.amazonaws.com/intro-to-ml-minhdh/Salaries.csv\"\n",
    "url='https://s3-ap-southeast-1.amazonaws.com/intro-to-ml-minhdh/Salaries.csv'\n",
    "sal = pd.read_csv(url,sep=\",\") # use sep=\",\" for coma separation. "
   ]
  },
  {
   "cell_type": "markdown",
   "metadata": {
    "colab_type": "text",
    "id": "QW6hV4iv9nOM"
   },
   "source": [
    "**Check the head of the DataFrame.**"
   ]
  },
  {
   "cell_type": "code",
   "execution_count": 3,
   "metadata": {
    "colab": {},
    "colab_type": "code",
    "id": "oa2JHHJ99nON",
    "scrolled": true
   },
   "outputs": [
    {
     "data": {
      "text/html": [
       "<div>\n",
       "<style scoped>\n",
       "    .dataframe tbody tr th:only-of-type {\n",
       "        vertical-align: middle;\n",
       "    }\n",
       "\n",
       "    .dataframe tbody tr th {\n",
       "        vertical-align: top;\n",
       "    }\n",
       "\n",
       "    .dataframe thead th {\n",
       "        text-align: right;\n",
       "    }\n",
       "</style>\n",
       "<table border=\"1\" class=\"dataframe\">\n",
       "  <thead>\n",
       "    <tr style=\"text-align: right;\">\n",
       "      <th></th>\n",
       "      <th>Id</th>\n",
       "      <th>EmployeeName</th>\n",
       "      <th>JobTitle</th>\n",
       "      <th>BasePay</th>\n",
       "      <th>OvertimePay</th>\n",
       "      <th>OtherPay</th>\n",
       "      <th>Benefits</th>\n",
       "      <th>TotalPay</th>\n",
       "      <th>TotalPayBenefits</th>\n",
       "      <th>Year</th>\n",
       "      <th>Notes</th>\n",
       "      <th>Agency</th>\n",
       "      <th>Status</th>\n",
       "    </tr>\n",
       "  </thead>\n",
       "  <tbody>\n",
       "    <tr>\n",
       "      <th>0</th>\n",
       "      <td>1</td>\n",
       "      <td>NATHANIEL FORD</td>\n",
       "      <td>GENERAL MANAGER-METROPOLITAN TRANSIT AUTHORITY</td>\n",
       "      <td>167411.18</td>\n",
       "      <td>0.00</td>\n",
       "      <td>400184.25</td>\n",
       "      <td>NaN</td>\n",
       "      <td>567595.43</td>\n",
       "      <td>567595.43</td>\n",
       "      <td>2011</td>\n",
       "      <td>NaN</td>\n",
       "      <td>San Francisco</td>\n",
       "      <td>NaN</td>\n",
       "    </tr>\n",
       "    <tr>\n",
       "      <th>1</th>\n",
       "      <td>2</td>\n",
       "      <td>GARY JIMENEZ</td>\n",
       "      <td>CAPTAIN III (POLICE DEPARTMENT)</td>\n",
       "      <td>155966.02</td>\n",
       "      <td>245131.88</td>\n",
       "      <td>137811.38</td>\n",
       "      <td>NaN</td>\n",
       "      <td>538909.28</td>\n",
       "      <td>538909.28</td>\n",
       "      <td>2011</td>\n",
       "      <td>NaN</td>\n",
       "      <td>San Francisco</td>\n",
       "      <td>NaN</td>\n",
       "    </tr>\n",
       "    <tr>\n",
       "      <th>2</th>\n",
       "      <td>3</td>\n",
       "      <td>ALBERT PARDINI</td>\n",
       "      <td>CAPTAIN III (POLICE DEPARTMENT)</td>\n",
       "      <td>212739.13</td>\n",
       "      <td>106088.18</td>\n",
       "      <td>16452.60</td>\n",
       "      <td>NaN</td>\n",
       "      <td>335279.91</td>\n",
       "      <td>335279.91</td>\n",
       "      <td>2011</td>\n",
       "      <td>NaN</td>\n",
       "      <td>San Francisco</td>\n",
       "      <td>NaN</td>\n",
       "    </tr>\n",
       "    <tr>\n",
       "      <th>3</th>\n",
       "      <td>4</td>\n",
       "      <td>CHRISTOPHER CHONG</td>\n",
       "      <td>WIRE ROPE CABLE MAINTENANCE MECHANIC</td>\n",
       "      <td>77916.00</td>\n",
       "      <td>56120.71</td>\n",
       "      <td>198306.90</td>\n",
       "      <td>NaN</td>\n",
       "      <td>332343.61</td>\n",
       "      <td>332343.61</td>\n",
       "      <td>2011</td>\n",
       "      <td>NaN</td>\n",
       "      <td>San Francisco</td>\n",
       "      <td>NaN</td>\n",
       "    </tr>\n",
       "    <tr>\n",
       "      <th>4</th>\n",
       "      <td>5</td>\n",
       "      <td>PATRICK GARDNER</td>\n",
       "      <td>DEPUTY CHIEF OF DEPARTMENT,(FIRE DEPARTMENT)</td>\n",
       "      <td>134401.60</td>\n",
       "      <td>9737.00</td>\n",
       "      <td>182234.59</td>\n",
       "      <td>NaN</td>\n",
       "      <td>326373.19</td>\n",
       "      <td>326373.19</td>\n",
       "      <td>2011</td>\n",
       "      <td>NaN</td>\n",
       "      <td>San Francisco</td>\n",
       "      <td>NaN</td>\n",
       "    </tr>\n",
       "  </tbody>\n",
       "</table>\n",
       "</div>"
      ],
      "text/plain": [
       "   Id       EmployeeName                                        JobTitle  \\\n",
       "0   1     NATHANIEL FORD  GENERAL MANAGER-METROPOLITAN TRANSIT AUTHORITY   \n",
       "1   2       GARY JIMENEZ                 CAPTAIN III (POLICE DEPARTMENT)   \n",
       "2   3     ALBERT PARDINI                 CAPTAIN III (POLICE DEPARTMENT)   \n",
       "3   4  CHRISTOPHER CHONG            WIRE ROPE CABLE MAINTENANCE MECHANIC   \n",
       "4   5    PATRICK GARDNER    DEPUTY CHIEF OF DEPARTMENT,(FIRE DEPARTMENT)   \n",
       "\n",
       "     BasePay  OvertimePay   OtherPay  Benefits   TotalPay  TotalPayBenefits  \\\n",
       "0  167411.18         0.00  400184.25       NaN  567595.43         567595.43   \n",
       "1  155966.02    245131.88  137811.38       NaN  538909.28         538909.28   \n",
       "2  212739.13    106088.18   16452.60       NaN  335279.91         335279.91   \n",
       "3   77916.00     56120.71  198306.90       NaN  332343.61         332343.61   \n",
       "4  134401.60      9737.00  182234.59       NaN  326373.19         326373.19   \n",
       "\n",
       "   Year  Notes         Agency  Status  \n",
       "0  2011    NaN  San Francisco     NaN  \n",
       "1  2011    NaN  San Francisco     NaN  \n",
       "2  2011    NaN  San Francisco     NaN  \n",
       "3  2011    NaN  San Francisco     NaN  \n",
       "4  2011    NaN  San Francisco     NaN  "
      ]
     },
     "execution_count": 3,
     "metadata": {},
     "output_type": "execute_result"
    }
   ],
   "source": [
    "sal.head()"
   ]
  },
  {
   "cell_type": "markdown",
   "metadata": {
    "colab_type": "text",
    "id": "LgRIzJ_l9nOP"
   },
   "source": [
    "**Use the .info() method to find out how many entries there are.**"
   ]
  },
  {
   "cell_type": "code",
   "execution_count": 4,
   "metadata": {
    "colab": {},
    "colab_type": "code",
    "id": "JuwgdTfz9nOP"
   },
   "outputs": [
    {
     "name": "stdout",
     "output_type": "stream",
     "text": [
      "<class 'pandas.core.frame.DataFrame'>\n",
      "RangeIndex: 148654 entries, 0 to 148653\n",
      "Data columns (total 13 columns):\n",
      "Id                  148654 non-null int64\n",
      "EmployeeName        148654 non-null object\n",
      "JobTitle            148654 non-null object\n",
      "BasePay             148045 non-null float64\n",
      "OvertimePay         148650 non-null float64\n",
      "OtherPay            148650 non-null float64\n",
      "Benefits            112491 non-null float64\n",
      "TotalPay            148654 non-null float64\n",
      "TotalPayBenefits    148654 non-null float64\n",
      "Year                148654 non-null int64\n",
      "Notes               0 non-null float64\n",
      "Agency              148654 non-null object\n",
      "Status              0 non-null float64\n",
      "dtypes: float64(8), int64(2), object(3)\n",
      "memory usage: 14.7+ MB\n"
     ]
    }
   ],
   "source": [
    "sal.info()"
   ]
  },
  {
   "cell_type": "markdown",
   "metadata": {
    "colab_type": "text",
    "id": "RgO49aNW9nOR"
   },
   "source": [
    "**What is the average BasePay ?**\n",
    "\n",
    "Keyword: [mean](https://pandas.pydata.org/pandas-docs/stable/generated/pandas.DataFrame.mean.html)"
   ]
  },
  {
   "cell_type": "code",
   "execution_count": 5,
   "metadata": {
    "colab": {},
    "colab_type": "code",
    "id": "twQu_3xj9nOS"
   },
   "outputs": [
    {
     "data": {
      "text/plain": [
       "66325.4488404877"
      ]
     },
     "execution_count": 5,
     "metadata": {},
     "output_type": "execute_result"
    }
   ],
   "source": [
    "sal.BasePay.mean()"
   ]
  },
  {
   "cell_type": "markdown",
   "metadata": {
    "colab_type": "text",
    "id": "qQc-OERD9nOU"
   },
   "source": [
    "**What is the lowest and highest amount of BasePay?**\n",
    "\n",
    "Keyword: \n",
    "[min](https://pandas.pydata.org/pandas-docs/stable/generated/pandas.DataFrame.min.html) , \n",
    "[max](https://pandas.pydata.org/pandas-docs/stable/generated/pandas.DataFrame.max.html)"
   ]
  },
  {
   "cell_type": "code",
   "execution_count": 6,
   "metadata": {
    "colab": {},
    "colab_type": "code",
    "id": "22XKRdg49nOV"
   },
   "outputs": [
    {
     "data": {
      "text/plain": [
       "-166.01"
      ]
     },
     "execution_count": 6,
     "metadata": {},
     "output_type": "execute_result"
    }
   ],
   "source": [
    "sal.BasePay.min()"
   ]
  },
  {
   "cell_type": "code",
   "execution_count": 7,
   "metadata": {
    "colab": {},
    "colab_type": "code",
    "id": "R-yPM0ZU9nOX"
   },
   "outputs": [
    {
     "data": {
      "text/plain": [
       "319275.01"
      ]
     },
     "execution_count": 7,
     "metadata": {},
     "output_type": "execute_result"
    }
   ],
   "source": [
    "sal.BasePay.max()"
   ]
  },
  {
   "cell_type": "markdown",
   "metadata": {
    "colab_type": "text",
    "id": "-MdkKp6U9nOa"
   },
   "source": [
    "**How about OvertimePay in the dataset? What is the average, lowest, highest amount?**"
   ]
  },
  {
   "cell_type": "code",
   "execution_count": 8,
   "metadata": {
    "colab": {},
    "colab_type": "code",
    "id": "Og2yxCil9nOb"
   },
   "outputs": [
    {
     "name": "stdout",
     "output_type": "stream",
     "text": [
      "info:\n",
      " count    148650.000000\n",
      "mean       5066.059886\n",
      "std       11454.380559\n",
      "min          -0.010000\n",
      "25%           0.000000\n",
      "50%           0.000000\n",
      "75%        4658.175000\n",
      "max      245131.880000\n",
      "Name: OvertimePay, dtype: float64\n",
      "average: 5066.059886444667\n",
      "min: -0.01\n",
      "max: 245131.88\n"
     ]
    }
   ],
   "source": [
    "print('info:\\n',sal.OvertimePay.describe())\n",
    "print('average:', sal.OvertimePay.mean())\n",
    "print('min:',sal.OvertimePay.min())\n",
    "print('max:',sal.OvertimePay.max())\n"
   ]
  },
  {
   "cell_type": "markdown",
   "metadata": {
    "colab_type": "text",
    "id": "mF0zrXXh9nOf"
   },
   "source": [
    "**What is the job title of  JOSEPH DRISCOLL ? Note: Use all caps, otherwise you may get an answer that doesn't match up (there is also a lowercase Joseph Driscoll).**"
   ]
  },
  {
   "cell_type": "code",
   "execution_count": 9,
   "metadata": {
    "colab": {},
    "colab_type": "code",
    "id": "wbqO05iu9nOh"
   },
   "outputs": [
    {
     "data": {
      "text/plain": [
       "24    CAPTAIN, FIRE SUPPRESSION\n",
       "Name: JobTitle, dtype: object"
      ]
     },
     "execution_count": 9,
     "metadata": {},
     "output_type": "execute_result"
    }
   ],
   "source": [
    "#To select rows whose column value equals a scalar, some_value, use ==:\n",
    "sal.loc[sal['EmployeeName'] == 'JOSEPH DRISCOLL'].JobTitle"
   ]
  },
  {
   "cell_type": "code",
   "execution_count": 10,
   "metadata": {
    "colab": {},
    "colab_type": "code",
    "id": "MwzxTlI29nOl"
   },
   "outputs": [
    {
     "data": {
      "text/html": [
       "<div>\n",
       "<style scoped>\n",
       "    .dataframe tbody tr th:only-of-type {\n",
       "        vertical-align: middle;\n",
       "    }\n",
       "\n",
       "    .dataframe tbody tr th {\n",
       "        vertical-align: top;\n",
       "    }\n",
       "\n",
       "    .dataframe thead th {\n",
       "        text-align: right;\n",
       "    }\n",
       "</style>\n",
       "<table border=\"1\" class=\"dataframe\">\n",
       "  <thead>\n",
       "    <tr style=\"text-align: right;\">\n",
       "      <th></th>\n",
       "      <th>Id</th>\n",
       "      <th>EmployeeName</th>\n",
       "      <th>JobTitle</th>\n",
       "      <th>BasePay</th>\n",
       "      <th>OvertimePay</th>\n",
       "      <th>OtherPay</th>\n",
       "      <th>Benefits</th>\n",
       "      <th>TotalPay</th>\n",
       "      <th>TotalPayBenefits</th>\n",
       "      <th>Year</th>\n",
       "      <th>Notes</th>\n",
       "      <th>Agency</th>\n",
       "      <th>Status</th>\n",
       "    </tr>\n",
       "  </thead>\n",
       "  <tbody>\n",
       "    <tr>\n",
       "      <th>1</th>\n",
       "      <td>2</td>\n",
       "      <td>GARY JIMENEZ</td>\n",
       "      <td>CAPTAIN III (POLICE DEPARTMENT)</td>\n",
       "      <td>155966.02</td>\n",
       "      <td>245131.88</td>\n",
       "      <td>137811.38</td>\n",
       "      <td>NaN</td>\n",
       "      <td>538909.28</td>\n",
       "      <td>538909.28</td>\n",
       "      <td>2011</td>\n",
       "      <td>NaN</td>\n",
       "      <td>San Francisco</td>\n",
       "      <td>NaN</td>\n",
       "    </tr>\n",
       "  </tbody>\n",
       "</table>\n",
       "</div>"
      ],
      "text/plain": [
       "   Id  EmployeeName                         JobTitle    BasePay  OvertimePay  \\\n",
       "1   2  GARY JIMENEZ  CAPTAIN III (POLICE DEPARTMENT)  155966.02    245131.88   \n",
       "\n",
       "    OtherPay  Benefits   TotalPay  TotalPayBenefits  Year  Notes  \\\n",
       "1  137811.38       NaN  538909.28         538909.28  2011    NaN   \n",
       "\n",
       "          Agency  Status  \n",
       "1  San Francisco     NaN  "
      ]
     },
     "execution_count": 10,
     "metadata": {},
     "output_type": "execute_result"
    }
   ],
   "source": [
    "# Now try to select Employees who have name \"GARY JIMENEZ\"\n",
    "# Your code here\n",
    "sal.loc[sal['EmployeeName'] == 'GARY JIMENEZ']"
   ]
  },
  {
   "cell_type": "markdown",
   "metadata": {
    "colab_type": "text",
    "id": "0nrHI4iu9nOn"
   },
   "source": [
    "**How much does JOSEPH DRISCOLL make (including benefits)?**"
   ]
  },
  {
   "cell_type": "code",
   "execution_count": 11,
   "metadata": {
    "colab": {},
    "colab_type": "code",
    "id": "TUZlBSDE9nOo"
   },
   "outputs": [
    {
     "data": {
      "text/html": [
       "<div>\n",
       "<style scoped>\n",
       "    .dataframe tbody tr th:only-of-type {\n",
       "        vertical-align: middle;\n",
       "    }\n",
       "\n",
       "    .dataframe tbody tr th {\n",
       "        vertical-align: top;\n",
       "    }\n",
       "\n",
       "    .dataframe thead th {\n",
       "        text-align: right;\n",
       "    }\n",
       "</style>\n",
       "<table border=\"1\" class=\"dataframe\">\n",
       "  <thead>\n",
       "    <tr style=\"text-align: right;\">\n",
       "      <th></th>\n",
       "      <th>TotalPay</th>\n",
       "      <th>Benefits</th>\n",
       "    </tr>\n",
       "  </thead>\n",
       "  <tbody>\n",
       "    <tr>\n",
       "      <th>24</th>\n",
       "      <td>270324.91</td>\n",
       "      <td>NaN</td>\n",
       "    </tr>\n",
       "  </tbody>\n",
       "</table>\n",
       "</div>"
      ],
      "text/plain": [
       "     TotalPay  Benefits\n",
       "24  270324.91       NaN"
      ]
     },
     "execution_count": 11,
     "metadata": {},
     "output_type": "execute_result"
    }
   ],
   "source": [
    "sal.loc[sal['EmployeeName'] == 'JOSEPH DRISCOLL',['TotalPay','Benefits']]\n",
    "# sal.Benefits.unique()"
   ]
  },
  {
   "cell_type": "markdown",
   "metadata": {
    "colab_type": "text",
    "id": "1thjd2GC9nOq"
   },
   "source": [
    "**What is the name of highest paid person (including benefits)?**"
   ]
  },
  {
   "cell_type": "code",
   "execution_count": 12,
   "metadata": {
    "colab": {},
    "colab_type": "code",
    "id": "msrq-7Ww9nOr"
   },
   "outputs": [
    {
     "data": {
      "text/html": [
       "<div>\n",
       "<style scoped>\n",
       "    .dataframe tbody tr th:only-of-type {\n",
       "        vertical-align: middle;\n",
       "    }\n",
       "\n",
       "    .dataframe tbody tr th {\n",
       "        vertical-align: top;\n",
       "    }\n",
       "\n",
       "    .dataframe thead th {\n",
       "        text-align: right;\n",
       "    }\n",
       "</style>\n",
       "<table border=\"1\" class=\"dataframe\">\n",
       "  <thead>\n",
       "    <tr style=\"text-align: right;\">\n",
       "      <th></th>\n",
       "      <th>EmployeeName</th>\n",
       "      <th>TotalPay</th>\n",
       "      <th>Benefits</th>\n",
       "    </tr>\n",
       "  </thead>\n",
       "  <tbody>\n",
       "    <tr>\n",
       "      <th>0</th>\n",
       "      <td>NATHANIEL FORD</td>\n",
       "      <td>567595.43</td>\n",
       "      <td>NaN</td>\n",
       "    </tr>\n",
       "  </tbody>\n",
       "</table>\n",
       "</div>"
      ],
      "text/plain": [
       "     EmployeeName   TotalPay  Benefits\n",
       "0  NATHANIEL FORD  567595.43       NaN"
      ]
     },
     "execution_count": 12,
     "metadata": {},
     "output_type": "execute_result"
    }
   ],
   "source": [
    "sal.loc[sal['TotalPay']==sal['TotalPay'].max(),['EmployeeName','TotalPay','Benefits']]\n",
    "# sal['TotalPay'].max()"
   ]
  },
  {
   "cell_type": "markdown",
   "metadata": {
    "colab_type": "text",
    "id": "uF2kX93x9nOu"
   },
   "source": [
    "**What is the name of lowest paid person (including benefits)? Do you notice something strange about how much he or she is paid?**"
   ]
  },
  {
   "cell_type": "code",
   "execution_count": 13,
   "metadata": {
    "colab": {},
    "colab_type": "code",
    "id": "htAfatTl9nOv"
   },
   "outputs": [
    {
     "data": {
      "text/html": [
       "<div>\n",
       "<style scoped>\n",
       "    .dataframe tbody tr th:only-of-type {\n",
       "        vertical-align: middle;\n",
       "    }\n",
       "\n",
       "    .dataframe tbody tr th {\n",
       "        vertical-align: top;\n",
       "    }\n",
       "\n",
       "    .dataframe thead th {\n",
       "        text-align: right;\n",
       "    }\n",
       "</style>\n",
       "<table border=\"1\" class=\"dataframe\">\n",
       "  <thead>\n",
       "    <tr style=\"text-align: right;\">\n",
       "      <th></th>\n",
       "      <th>EmployeeName</th>\n",
       "      <th>TotalPay</th>\n",
       "      <th>Benefits</th>\n",
       "    </tr>\n",
       "  </thead>\n",
       "  <tbody>\n",
       "    <tr>\n",
       "      <th>148653</th>\n",
       "      <td>Joe Lopez</td>\n",
       "      <td>-618.13</td>\n",
       "      <td>0.0</td>\n",
       "    </tr>\n",
       "  </tbody>\n",
       "</table>\n",
       "</div>"
      ],
      "text/plain": [
       "       EmployeeName  TotalPay  Benefits\n",
       "148653    Joe Lopez   -618.13       0.0"
      ]
     },
     "execution_count": 13,
     "metadata": {},
     "output_type": "execute_result"
    }
   ],
   "source": [
    "sal.loc[sal['TotalPay']==sal['TotalPay'].min(),['EmployeeName','TotalPay','Benefits']]\n",
    "#Số tiền được trả của anh ta là một số âm"
   ]
  },
  {
   "cell_type": "markdown",
   "metadata": {
    "colab_type": "text",
    "id": "WB0HTvjM9nOx"
   },
   "source": [
    "**What was the average (mean) BasePay of all employees per year? (2011-2014) ?**\n",
    "Keyword: _groupby_"
   ]
  },
  {
   "cell_type": "code",
   "execution_count": 14,
   "metadata": {
    "colab": {},
    "colab_type": "code",
    "id": "6Y5mUYir9nOy"
   },
   "outputs": [
    {
     "data": {
      "text/plain": [
       "Year\n",
       "2011    63595.956517\n",
       "2012    65436.406857\n",
       "2013    69630.030216\n",
       "2014    66564.421924\n",
       "Name: BasePay, dtype: float64"
      ]
     },
     "execution_count": 14,
     "metadata": {},
     "output_type": "execute_result"
    }
   ],
   "source": [
    "sal.groupby('Year')['BasePay'].mean()\n"
   ]
  },
  {
   "cell_type": "markdown",
   "metadata": {
    "colab_type": "text",
    "id": "k8Qzx9MD9nO0"
   },
   "source": [
    "**How many unique job titles are there?**\n",
    "\n",
    "Keyword: _unique, nunique_"
   ]
  },
  {
   "cell_type": "code",
   "execution_count": 15,
   "metadata": {
    "colab": {},
    "colab_type": "code",
    "id": "mvzwZ5Mb9nO1"
   },
   "outputs": [
    {
     "data": {
      "text/plain": [
       "Transit Operator                                      7036\n",
       "Special Nurse                                         4389\n",
       "Registered Nurse                                      3736\n",
       "Public Svc Aide-Public Works                          2518\n",
       "Police Officer 3                                      2421\n",
       "Custodian                                             2418\n",
       "TRANSIT OPERATOR                                      2388\n",
       "Firefighter                                           2359\n",
       "Recreation Leader                                     1971\n",
       "Patient Care Assistant                                1945\n",
       "Deputy Sheriff                                        1933\n",
       "Police Officer                                        1476\n",
       "SPECIAL NURSE                                         1402\n",
       "Public Service Trainee                                1328\n",
       "REGISTERED NURSE                                      1219\n",
       "Police Officer 2                                      1141\n",
       "Attorney (Civil/Criminal)                             1126\n",
       "Porter                                                1095\n",
       "Sergeant 3                                            1047\n",
       "General Laborer                                       1033\n",
       "EMT/Paramedic/Firefighter                              918\n",
       "Gardener                                               894\n",
       "Parking Control Officer                                868\n",
       "Senior Clerk                                           840\n",
       "Library Page                                           799\n",
       "CUSTODIAN                                              796\n",
       "FIREFIGHTER                                            794\n",
       "POLICE OFFICER III                                     779\n",
       "Clerk                                                  764\n",
       "Eligibility Worker                                     760\n",
       "                                                      ... \n",
       "Asst Dir Clinical Svcs 2                                 1\n",
       "SECRETARY, COMMISSION ON THE ENVIRONMENT                 1\n",
       "LIEUTENANT I, (POLICE DEPARTMENT)                        1\n",
       "PRINCIPAL INVESTIGATOR, TAX COLLECTOR                    1\n",
       "HEAVY EQUIPMENT OPERATIONS ASSISTANT SUPERVISOR          1\n",
       "CHIEF VICTIM/WITNESS INVESTIGATOR                        1\n",
       "MAYORAL STAFF V                                          1\n",
       "SENIOR TRANSIT TRAFFIC CHECKER                           1\n",
       "SENIOR FOOD SERVICE SUPERVISOR                           1\n",
       "DIRECTOR, INFORMATION TECHNOLOGY GROUP                   1\n",
       "BAKER                                                    1\n",
       "COURT ADMINISTRATIVE SECRETARY                           1\n",
       "Lieutenant (Police Department)                           1\n",
       "METAL FABRICATOR                                         1\n",
       "SENIOR PSYCHIATRIC ORDERLY                               1\n",
       "PUBLIC SAFETY COMMUNICATIONS TECHNICIAN                  1\n",
       "TREE TOPPER SUPERVISOR II                                1\n",
       "Supervising Mediator, UFCS                               1\n",
       "TRAINING COORDINATOR                                     1\n",
       "ACPO,JuvP, Juv Prob (SFERS)                              1\n",
       "TRANSIT POWER LINE WORKER SUPERVISOR II                  1\n",
       "HEAD PHOTOGRAPHER                                        1\n",
       "Managing Attorney                                        1\n",
       "COURT CLERK                                              1\n",
       "ASSISTANT TO THE DIRECTOR, PUBLIC AFFAIRS       RS       1\n",
       "SUPERVISING WELFARE FRAUD INVESTIGATOR                   1\n",
       "Musm Exhibit Packer & Repairer                           1\n",
       "SENIOR MAINTENANCE CONTROLLER                            1\n",
       "CHIEF FIRE ALARM DISPATCHER                              1\n",
       "SECRETARY, HUMAN SERVICES COMMISSION                     1\n",
       "Name: JobTitle, Length: 2159, dtype: int64"
      ]
     },
     "execution_count": 15,
     "metadata": {},
     "output_type": "execute_result"
    }
   ],
   "source": [
    "fre=sal['JobTitle'].value_counts()\n",
    "fre"
   ]
  },
  {
   "cell_type": "markdown",
   "metadata": {
    "colab_type": "text",
    "id": "0dkyZe-39nO4"
   },
   "source": [
    "**What are the top 5 most common jobs?**\n",
    "\n",
    "Keyword: *value_counts*"
   ]
  },
  {
   "cell_type": "code",
   "execution_count": 16,
   "metadata": {
    "colab": {},
    "colab_type": "code",
    "id": "PVSDr3Ww9nO7"
   },
   "outputs": [
    {
     "data": {
      "text/plain": [
       "Transit Operator                7036\n",
       "Special Nurse                   4389\n",
       "Registered Nurse                3736\n",
       "Public Svc Aide-Public Works    2518\n",
       "Police Officer 3                2421\n",
       "Name: JobTitle, dtype: int64"
      ]
     },
     "execution_count": 16,
     "metadata": {},
     "output_type": "execute_result"
    }
   ],
   "source": [
    "fre.head(5)"
   ]
  },
  {
   "cell_type": "markdown",
   "metadata": {
    "colab_type": "text",
    "id": "25fCX21U9nO-"
   },
   "source": [
    "**How many Job Titles were represented by only one person in 2013? (e.g. Job Titles with only one occurence in 2013?)**"
   ]
  },
  {
   "cell_type": "code",
   "execution_count": 19,
   "metadata": {
    "colab": {},
    "colab_type": "code",
    "id": "e9vr6BKD9nPA"
   },
   "outputs": [
    {
     "name": "stdout",
     "output_type": "stream",
     "text": [
      "Chief Nursery Specialist --- 1\n",
      "Asst Superintendent Rec --- 1\n",
      "Baker --- 1\n",
      "Real Estate Devt. Mgr, SFMTA --- 1\n",
      "Chf Victim/Witness Invstgtor --- 1\n",
      "Court Reporter Coordinator --- 1\n",
      "Supply Room Attendant --- 1\n",
      "Crane Mechanic Supervisor --- 1\n",
      "Sr General Utility Mechanic --- 1\n",
      "Bd/Comm Secretary 3 --- 1\n",
      "Braillist --- 1\n",
      "Ex Dir, SE Com Fac Comm --- 1\n",
      "Statistician --- 1\n",
      "Payroll Supervisor --- 1\n",
      "Assistant Sheriff --- 1\n",
      "Supervising Parts Storekeeper --- 1\n",
      "Chief Fire Alarm Dispatcher --- 1\n",
      "Crime Lab Mgr --- 1\n",
      "Auto Body & Fender Wrk Sprv 1 --- 1\n",
      "Arborist Technician Supv II --- 1\n",
      "Pr Investigator, Tax Collector --- 1\n",
      "City Attorney --- 1\n",
      "Disability Access Coordinator --- 1\n",
      "Drug Court Coordinator --- 1\n",
      "Soft Floor Coverer Supvr I --- 1\n",
      "Performance Analyst I --- 1\n",
      "Chief Telephone Operator --- 1\n",
      "Assessor --- 1\n",
      "Senior Offset Machine Operator --- 1\n",
      "Animal Care Supervisor --- 1\n",
      "Board Scty, MTA --- 1\n",
      "Laboratory Technician I --- 1\n",
      "Head Photographer --- 1\n",
      "Painter Supervisor 2 --- 1\n",
      "Traffic Sign Manager --- 1\n",
      "Airport Communications Officer --- 1\n",
      "IS Trainer-Senior --- 1\n",
      "Orthopedic Technician 1 --- 1\n",
      "PrDAInvest,SpecUnit (SFERS) --- 1\n",
      "Senior Food Service Supervisor --- 1\n",
      "Plumber Supervisor 2 --- 1\n",
      "Chief Adult Probation Officer --- 1\n",
      "Sheet Metal Wrk Supervisor 2 --- 1\n",
      "Senior Book Repairer --- 1\n",
      "Mayor --- 1\n",
      "Director, Human Resources --- 1\n",
      "Asst Dir, Log Cabin Rnch --- 1\n",
      "Transit Paint Shop Sprv1 --- 1\n",
      "Secretary, Library Commission --- 1\n",
      "Electroencephalograph Tech 1 --- 1\n",
      "Sup Ct Admin Secretary --- 1\n",
      "Traf Signal Electrician Sup II --- 1\n",
      "Dir Emp Relations Div --- 1\n",
      "Legislation Clerk --- 1\n",
      "Assistant Power House Operator --- 1\n",
      "Animal Care Asst Supv --- 1\n",
      "Emergency Services Coord I --- 1\n",
      "Treasurer --- 1\n",
      "Assistant Inspector --- 1\n",
      "Animal Control Supervisor --- 1\n",
      "Trnst Power Line Wrk Sprv 2 --- 1\n",
      "Director, Juvenile Hall --- 1\n",
      "Administrator, DPH --- 1\n",
      "Roofer Supervisor 1 --- 1\n",
      "Mayoral Staff XII --- 1\n",
      "Principal Real Property Ofc --- 1\n",
      "Ex Asst to the Controller --- 1\n",
      "Sctry, Juv Probation Comm --- 1\n",
      "Asphalt Plant Supervisor 1 --- 1\n",
      "Mgr Museum Security Services --- 1\n",
      "Media Production Specialist --- 1\n",
      "Wire Rope Cable Maint Sprv --- 1\n",
      "Law Librarian --- 1\n",
      "Communications Director --- 1\n",
      "Traffic Signal Operator --- 1\n",
      "Captain, (Fire Department) --- 1\n",
      "Graphics Supervisor --- 1\n",
      "Materials/Supplies Supervisor --- 1\n",
      "Vet Laboratory Technologist --- 1\n",
      "Track Maint Supt, Muni Railway --- 1\n",
      "Managing Attorney --- 1\n",
      "Dep Dir for Investments, Ret --- 1\n",
      "Emergency Services Assistant --- 1\n",
      "Sheriff (SFERS) --- 1\n",
      "Administrative Analyst II --- 1\n",
      "IS Operator-Journey --- 1\n",
      "Wharfinger 1 --- 1\n",
      "Mayoral Staff X --- 1\n",
      "Employee Assistance Counselor --- 1\n",
      "Shelter Office Asst Supv --- 1\n",
      "Media/Security Syst Supv --- 1\n",
      "Conservatorship/Case Mgt Sprv --- 1\n",
      "Junior Clerk Typist --- 1\n",
      "Principal Museum Preparator --- 1\n",
      "Emergency Medical Svcs Chief --- 1\n",
      "Senior Transit Traffic Checker --- 1\n",
      "Acupuncturist --- 1\n",
      "Chief, Fire Department --- 1\n",
      "Chief Electrical Inspector --- 1\n",
      "Employment & Training Spec 6 --- 1\n",
      "Secretary, Comm on the Environ --- 1\n",
      "Chief of Police --- 1\n",
      "Chief Housing Inspector --- 1\n",
      "Sctry, Human Svcs. Commission --- 1\n",
      "Senior Museum Preparator --- 1\n",
      "Director, Probation Services --- 1\n",
      "Secretary, Health Commission --- 1\n",
      "Port Director --- 1\n",
      "Operating Room Nurse --- 1\n",
      "Cfdntal Sctry to City Atty --- 1\n",
      "Municipal Stadium Groundskpr --- 1\n",
      "Parking Hearing Examiner --- 1\n",
      "Gen Mgr, Public Trnsp Dept --- 1\n",
      "Controller --- 1\n",
      "District Attorney --- 1\n",
      "Airport Mechanical Maint Sprv --- 1\n",
      "Undersheriff --- 1\n",
      "Asst Chf, Bur Clm Invest&Admin --- 1\n",
      "Telecommunications Tech Supv --- 1\n",
      "Media Programming Spec --- 1\n",
      "Claims Process Clerk --- 1\n",
      "Senior Psychiatric Orderly --- 1\n",
      "Mayoral Staff VII --- 1\n",
      "Director, Info Tech Group --- 1\n",
      "Training Technician --- 1\n",
      "Chief Deputy Adlt Probation Of --- 1\n",
      "Director, Probate --- 1\n",
      "Farmer --- 1\n",
      "Orthopedic Technician 2 --- 1\n",
      "City Shops Asst Superintendent --- 1\n",
      "Asst Dir of Clinical Svcs 1 --- 1\n",
      "Senior Morgue Attendant --- 1\n",
      "Sr Opers Mgr --- 1\n",
      "Administrative Analyst I --- 1\n",
      "Assistant Industrial Hygienist --- 1\n",
      "Public Safety Comm Tech --- 1\n",
      "Metalsmith --- 1\n",
      "Asst Director, Juvenile Hall --- 1\n",
      "Water Meter Shop Supervisor 1 --- 1\n",
      "Dir, Log Cabin Ranch (SFERS) --- 1\n",
      "Industrial Engineer --- 1\n",
      "Court Interpreter Supervisor --- 1\n",
      "Human Resources Director --- 1\n",
      "Senior Data Entry Operator --- 1\n",
      "Chief Plumbing Inspector --- 1\n",
      "Training Coordinator --- 1\n",
      "Rent Board Supervisor --- 1\n",
      "IS Technician Assistant --- 1\n",
      "Window Cleaner Supervisor --- 1\n",
      "Principal Recreation Sprv --- 1\n",
      "Sr Employee Asst Counselor --- 1\n",
      "Mech Shop & Equip Supt --- 1\n",
      "Special Assistant 16 --- 1\n",
      "Chf District Atty Investigator --- 1\n",
      "Sup Welfare Fraud Investigator --- 1\n",
      "Sr Light Rail Veh Equip Eng --- 1\n",
      "Victim & Witness Technician --- 1\n",
      "Civil Case Settlmnt Specialist --- 1\n",
      "Feasibility Analyst, Port --- 1\n",
      "Electric Motor Repair Sprv 1 --- 1\n",
      "Forensic Toxicologist --- 1\n",
      "Assoc Musm Cnsrvt, AAM --- 1\n",
      "Court Executive Officer --- 1\n",
      "Senior Plan Checker --- 1\n",
      "Court Asst., Superior Court --- 1\n",
      "Signal and Systems Engineer --- 1\n",
      "Director, Fiscal Services --- 1\n",
      "Cement Finisher Supervisor 2 --- 1\n",
      "Glazier Supervisor 1 --- 1\n",
      "Special Assistant 14 --- 1\n",
      "Mental Health Hearing Officer --- 1\n",
      "Ornamental Iron Wrk Sprv 1 --- 1\n",
      "Special Assistant 15 --- 1\n",
      "Field Svcs Asst Supv --- 1\n",
      "Research Psychologist --- 1\n",
      "IS Operator-Analyst --- 1\n",
      "Market Research Spec, Port --- 1\n",
      "Attorney, Tax Collector --- 1\n",
      "Media Training Specialist --- 1\n",
      "Chief Dep Adlt Prob Of (SFERS) --- 1\n",
      "Senior Assessment Clerk --- 1\n",
      "Public Defender --- 1\n",
      "Court Clerk --- 1\n",
      "Sprv Adult Prob Ofc (SFERS) --- 1\n",
      "Shade and Drapery Worker --- 1\n",
      "Area Sprv Parks, Squares & Fac --- 1\n",
      "Environmental Hlth Tech 2 --- 1\n",
      "Ex Asst to Ex Dir, Retirement --- 1\n",
      "Assistant Inspector 2 --- 1\n",
      "Sr Medical Transcriber Typist --- 1\n",
      "Adm, SFGH Medical Center --- 1\n",
      "Special Assistant 21 --- 1\n",
      "Assistant Law Librarian --- 1\n",
      "Shelter Officer Supervisor --- 1\n",
      "Librarian 2 - Asian Arts --- 1\n",
      "Specialist in Aging 2 --- 1\n",
      "Depty Sealer of Weights & Meas --- 1\n",
      "Assistant Director, Probate --- 1\n",
      "Court Asst-Sr, Superior Court --- 1\n",
      "Senior Pharmacy Helper --- 1\n",
      "Power Plant Supervisor 1 --- 1\n",
      "Senior Transcriber Typist --- 1\n"
     ]
    }
   ],
   "source": [
    "salYear=sal.groupby('Year')\n",
    "for name,group in salYear:\n",
    "    if name==2013:\n",
    "        onlyPerson=group.JobTitle.value_counts()\n",
    "        for i in range(len(onlyPerson)):\n",
    "            if onlyPerson[i]==1:\n",
    "                print(onlyPerson.index[i],'---',onlyPerson[i])    "
   ]
  },
  {
   "cell_type": "markdown",
   "metadata": {
    "colab_type": "text",
    "id": "HoiNghja9nPD"
   },
   "source": [
    "**How many people have the word Chief in their job title?**"
   ]
  },
  {
   "cell_type": "code",
   "execution_count": 20,
   "metadata": {
    "colab": {},
    "colab_type": "code",
    "id": "mBc0hzan9nPE"
   },
   "outputs": [
    {
     "name": "stdout",
     "output_type": "stream",
     "text": [
      "People have the word Chief in thier job title: 627\n"
     ]
    }
   ],
   "source": [
    "count=0\n",
    "for i in range(len(sal.JobTitle)):\n",
    "    if sal.JobTitle[i].find('Chief')!=-1 or sal.JobTitle[i].find('CHIEF')!=-1:\n",
    "        count=count+1\n",
    "        \n",
    "print('People have the word Chief in thier job title:',count)"
   ]
  },
  {
   "cell_type": "code",
   "execution_count": null,
   "metadata": {
    "colab": {},
    "colab_type": "code",
    "id": "u40e_Ua89nPF"
   },
   "outputs": [],
   "source": []
  },
  {
   "cell_type": "code",
   "execution_count": null,
   "metadata": {
    "colab": {},
    "colab_type": "code",
    "id": "SA7QNzVq9nPI"
   },
   "outputs": [],
   "source": []
  },
  {
   "cell_type": "markdown",
   "metadata": {
    "colab_type": "text",
    "id": "5G094gws9nPL"
   },
   "source": [
    "## Data Visualization\n",
    "\n",
    "**Implement seaborn's countplot with x='Year'**"
   ]
  },
  {
   "cell_type": "code",
   "execution_count": 50,
   "metadata": {
    "colab": {},
    "colab_type": "code",
    "id": "56GKG4UD9nPM"
   },
   "outputs": [
    {
     "data": {
      "image/png": "[encoded data removed]",
      "text/plain": [
       "<Figure size 432x288 with 1 Axes>"
      ]
     },
     "metadata": {},
     "output_type": "display_data"
    }
   ],
   "source": [
    "sns.set(style=\"darkgrid\")\n",
    "# titanic = sns.load_dataset(\"titanic\")\n",
    "ax=sns.countplot(x=\"Year\",data=sal)"
   ]
  },
  {
   "cell_type": "markdown",
   "metadata": {
    "colab_type": "text",
    "id": "orQACfVP9nPP"
   },
   "source": [
    "**Implement seaborn's distplot for BasePay of Year 2011**"
   ]
  },
  {
   "cell_type": "code",
   "execution_count": 22,
   "metadata": {
    "colab": {},
    "colab_type": "code",
    "id": "JYPrrLW19nPQ"
   },
   "outputs": [
    {
     "data": {
      "image/png": "[encoded data removed]",
      "text/plain": [
       "<Figure size 432x288 with 1 Axes>"
      ]
     },
     "metadata": {
      "needs_background": "light"
     },
     "output_type": "display_data"
    }
   ],
   "source": [
    "import matplotlib.pyplot as plt\n",
    "\n",
    "basePay2011=sal.loc[sal['Year'] ==2011,['BasePay']].dropna()\n",
    "sns.distplot(basePay2011)\n",
    "plt.show()"
   ]
  },
  {
   "cell_type": "markdown",
   "metadata": {
    "colab_type": "text",
    "id": "Ea9OFiqK9nPS"
   },
   "source": [
    "**How about other Year**"
   ]
  },
  {
   "cell_type": "code",
   "execution_count": 27,
   "metadata": {
    "colab": {},
    "colab_type": "code",
    "id": "orRMn0X89nPT"
   },
   "outputs": [
    {
     "data": {
      "image/png": "[encoded data removed]",
      "text/plain": [
       "<Figure size 432x288 with 1 Axes>"
      ]
     },
     "metadata": {
      "needs_background": "light"
     },
     "output_type": "display_data"
    },
    {
     "data": {
      "image/png": "[encoded data removed]",
      "text/plain": [
       "<Figure size 432x288 with 1 Axes>"
      ]
     },
     "metadata": {
      "needs_background": "light"
     },
     "output_type": "display_data"
    },
    {
     "data": {
      "image/png": "[encoded data removed]",
      "text/plain": [
       "<Figure size 432x288 with 1 Axes>"
      ]
     },
     "metadata": {
      "needs_background": "light"
     },
     "output_type": "display_data"
    },
    {
     "data": {
      "image/png": "[encoded data removed]",
      "text/plain": [
       "<Figure size 432x288 with 1 Axes>"
      ]
     },
     "metadata": {
      "needs_background": "light"
     },
     "output_type": "display_data"
    }
   ],
   "source": [
    "salYear=sal.groupby('Year')\n",
    "for name,group in salYear:\n",
    "    basePayYear=sal.loc[sal['Year'] ==name,['BasePay']].dropna()\n",
    "    sns.distplot(basePayYear)\n",
    "    plt.title(name)\n",
    "    plt.show()"
   ]
  },
  {
   "cell_type": "markdown",
   "metadata": {
    "colab_type": "text",
    "id": "00EkkG_s9nPV"
   },
   "source": [
    "## Bonus\n",
    "\n",
    "**Visualize top 5 Jobs with BasePay, Benefits and OvertimePay**\n",
    "\n",
    "Keyword: *index, isin, groupby, mean, plot*"
   ]
  },
  {
   "cell_type": "code",
   "execution_count": 207,
   "metadata": {
    "colab": {},
    "colab_type": "code",
    "id": "LoZm87Bu9nPV"
   },
   "outputs": [
    {
     "data": {
      "text/plain": [
       "Index(['Commander 3', 'Asst Med Examiner', 'Battalion Chief, Fire Suppress',\n",
       "       'Dep Chf of Dept (Fire Dept)', 'Asst Chf of Dept (Fire Dept)'],\n",
       "      dtype='object', name='JobTitle')"
      ]
     },
     "execution_count": 207,
     "metadata": {},
     "output_type": "execute_result"
    }
   ],
   "source": [
    "job=sal.groupby('JobTitle')\n",
    "result1=pd.DataFrame()\n",
    "\n",
    "#tính trung bình của từng Job title\n",
    "df=pd.DataFrame(data=job['BasePay'].mean(),index=meanBasePay.index)\n",
    "df['Benefits']=job['Benefits'].mean()\n",
    "df['OvertimePay']=job['OvertimePay'].mean()\n",
    "\n",
    "#loại bỏ các hàng rỗng\n",
    "for index in df.index:\n",
    "    if df['OvertimePay'][index]==0:\n",
    "        df.drop([index],inplace = True)\n",
    "\n",
    "import math\n",
    "\n",
    "for index in df.index:\n",
    "    if math.isnan(df['Benefits'][index]):\n",
    "        df.drop([index],inplace = True)\n",
    "\n",
    "a=df.sum(axis=1)\n",
    "b=a.sort_values()\n",
    "b.tail().index"
   ]
  },
  {
   "cell_type": "code",
   "execution_count": 54,
   "metadata": {
    "colab": {},
    "colab_type": "code",
    "id": "C-nKGOA-9nPY",
    "outputId": "a4a94735-1f45-4d7c-dc75-3606cfd52969"
   },
   "outputs": [
    {
     "data": {
      "text/plain": [
       "(148654, 13)"
      ]
     },
     "execution_count": 54,
     "metadata": {},
     "output_type": "execute_result"
    }
   ],
   "source": [
    "sal.shape"
   ]
  },
  {
   "cell_type": "markdown",
   "metadata": {
    "colab_type": "text",
    "id": "V2Lz3SGu9nPc"
   },
   "source": [
    "**Fun Fact: Is there a correlation between length of the Job Title string and Salary?**\n",
    "\n",
    "*Hint: corr()*"
   ]
  },
  {
   "cell_type": "code",
   "execution_count": 209,
   "metadata": {
    "colab": {},
    "colab_type": "code",
    "id": "CgcrtPdJ9nPd"
   },
   "outputs": [
    {
     "data": {
      "text/html": [
       "<div>\n",
       "<style scoped>\n",
       "    .dataframe tbody tr th:only-of-type {\n",
       "        vertical-align: middle;\n",
       "    }\n",
       "\n",
       "    .dataframe tbody tr th {\n",
       "        vertical-align: top;\n",
       "    }\n",
       "\n",
       "    .dataframe thead th {\n",
       "        text-align: right;\n",
       "    }\n",
       "</style>\n",
       "<table border=\"1\" class=\"dataframe\">\n",
       "  <thead>\n",
       "    <tr style=\"text-align: right;\">\n",
       "      <th></th>\n",
       "      <th>Id</th>\n",
       "      <th>BasePay</th>\n",
       "      <th>OvertimePay</th>\n",
       "      <th>OtherPay</th>\n",
       "      <th>Benefits</th>\n",
       "      <th>TotalPay</th>\n",
       "      <th>TotalPayBenefits</th>\n",
       "      <th>Year</th>\n",
       "      <th>Notes</th>\n",
       "      <th>Status</th>\n",
       "    </tr>\n",
       "  </thead>\n",
       "  <tbody>\n",
       "    <tr>\n",
       "      <th>Id</th>\n",
       "      <td>1.000000</td>\n",
       "      <td>-0.201067</td>\n",
       "      <td>-0.071083</td>\n",
       "      <td>-0.104453</td>\n",
       "      <td>-0.324056</td>\n",
       "      <td>-0.225156</td>\n",
       "      <td>-0.150623</td>\n",
       "      <td>0.865969</td>\n",
       "      <td>NaN</td>\n",
       "      <td>NaN</td>\n",
       "    </tr>\n",
       "    <tr>\n",
       "      <th>BasePay</th>\n",
       "      <td>-0.201067</td>\n",
       "      <td>1.000000</td>\n",
       "      <td>0.224859</td>\n",
       "      <td>0.290479</td>\n",
       "      <td>0.790229</td>\n",
       "      <td>0.887552</td>\n",
       "      <td>0.832879</td>\n",
       "      <td>0.023485</td>\n",
       "      <td>NaN</td>\n",
       "      <td>NaN</td>\n",
       "    </tr>\n",
       "    <tr>\n",
       "      <th>OvertimePay</th>\n",
       "      <td>-0.071083</td>\n",
       "      <td>0.224859</td>\n",
       "      <td>1.000000</td>\n",
       "      <td>0.440682</td>\n",
       "      <td>0.269008</td>\n",
       "      <td>0.336174</td>\n",
       "      <td>0.325602</td>\n",
       "      <td>0.013507</td>\n",
       "      <td>NaN</td>\n",
       "      <td>NaN</td>\n",
       "    </tr>\n",
       "    <tr>\n",
       "      <th>OtherPay</th>\n",
       "      <td>-0.104453</td>\n",
       "      <td>0.290479</td>\n",
       "      <td>0.440682</td>\n",
       "      <td>1.000000</td>\n",
       "      <td>0.304795</td>\n",
       "      <td>0.373620</td>\n",
       "      <td>0.355090</td>\n",
       "      <td>-0.014943</td>\n",
       "      <td>NaN</td>\n",
       "      <td>NaN</td>\n",
       "    </tr>\n",
       "    <tr>\n",
       "      <th>Benefits</th>\n",
       "      <td>-0.324056</td>\n",
       "      <td>0.790229</td>\n",
       "      <td>0.269008</td>\n",
       "      <td>0.304795</td>\n",
       "      <td>1.000000</td>\n",
       "      <td>0.778525</td>\n",
       "      <td>0.821922</td>\n",
       "      <td>-0.050176</td>\n",
       "      <td>NaN</td>\n",
       "      <td>NaN</td>\n",
       "    </tr>\n",
       "    <tr>\n",
       "      <th>TotalPay</th>\n",
       "      <td>-0.225156</td>\n",
       "      <td>0.887552</td>\n",
       "      <td>0.336174</td>\n",
       "      <td>0.373620</td>\n",
       "      <td>0.778525</td>\n",
       "      <td>1.000000</td>\n",
       "      <td>0.888491</td>\n",
       "      <td>0.020540</td>\n",
       "      <td>NaN</td>\n",
       "      <td>NaN</td>\n",
       "    </tr>\n",
       "    <tr>\n",
       "      <th>TotalPayBenefits</th>\n",
       "      <td>-0.150623</td>\n",
       "      <td>0.832879</td>\n",
       "      <td>0.325602</td>\n",
       "      <td>0.355090</td>\n",
       "      <td>0.821922</td>\n",
       "      <td>0.888491</td>\n",
       "      <td>1.000000</td>\n",
       "      <td>0.114866</td>\n",
       "      <td>NaN</td>\n",
       "      <td>NaN</td>\n",
       "    </tr>\n",
       "    <tr>\n",
       "      <th>Year</th>\n",
       "      <td>0.865969</td>\n",
       "      <td>0.023485</td>\n",
       "      <td>0.013507</td>\n",
       "      <td>-0.014943</td>\n",
       "      <td>-0.050176</td>\n",
       "      <td>0.020540</td>\n",
       "      <td>0.114866</td>\n",
       "      <td>1.000000</td>\n",
       "      <td>NaN</td>\n",
       "      <td>NaN</td>\n",
       "    </tr>\n",
       "    <tr>\n",
       "      <th>Notes</th>\n",
       "      <td>NaN</td>\n",
       "      <td>NaN</td>\n",
       "      <td>NaN</td>\n",
       "      <td>NaN</td>\n",
       "      <td>NaN</td>\n",
       "      <td>NaN</td>\n",
       "      <td>NaN</td>\n",
       "      <td>NaN</td>\n",
       "      <td>NaN</td>\n",
       "      <td>NaN</td>\n",
       "    </tr>\n",
       "    <tr>\n",
       "      <th>Status</th>\n",
       "      <td>NaN</td>\n",
       "      <td>NaN</td>\n",
       "      <td>NaN</td>\n",
       "      <td>NaN</td>\n",
       "      <td>NaN</td>\n",
       "      <td>NaN</td>\n",
       "      <td>NaN</td>\n",
       "      <td>NaN</td>\n",
       "      <td>NaN</td>\n",
       "      <td>NaN</td>\n",
       "    </tr>\n",
       "  </tbody>\n",
       "</table>\n",
       "</div>"
      ],
      "text/plain": [
       "                        Id   BasePay  OvertimePay  OtherPay  Benefits  \\\n",
       "Id                1.000000 -0.201067    -0.071083 -0.104453 -0.324056   \n",
       "BasePay          -0.201067  1.000000     0.224859  0.290479  0.790229   \n",
       "OvertimePay      -0.071083  0.224859     1.000000  0.440682  0.269008   \n",
       "OtherPay         -0.104453  0.290479     0.440682  1.000000  0.304795   \n",
       "Benefits         -0.324056  0.790229     0.269008  0.304795  1.000000   \n",
       "TotalPay         -0.225156  0.887552     0.336174  0.373620  0.778525   \n",
       "TotalPayBenefits -0.150623  0.832879     0.325602  0.355090  0.821922   \n",
       "Year              0.865969  0.023485     0.013507 -0.014943 -0.050176   \n",
       "Notes                  NaN       NaN          NaN       NaN       NaN   \n",
       "Status                 NaN       NaN          NaN       NaN       NaN   \n",
       "\n",
       "                  TotalPay  TotalPayBenefits      Year  Notes  Status  \n",
       "Id               -0.225156         -0.150623  0.865969    NaN     NaN  \n",
       "BasePay           0.887552          0.832879  0.023485    NaN     NaN  \n",
       "OvertimePay       0.336174          0.325602  0.013507    NaN     NaN  \n",
       "OtherPay          0.373620          0.355090 -0.014943    NaN     NaN  \n",
       "Benefits          0.778525          0.821922 -0.050176    NaN     NaN  \n",
       "TotalPay          1.000000          0.888491  0.020540    NaN     NaN  \n",
       "TotalPayBenefits  0.888491          1.000000  0.114866    NaN     NaN  \n",
       "Year              0.020540          0.114866  1.000000    NaN     NaN  \n",
       "Notes                  NaN               NaN       NaN    NaN     NaN  \n",
       "Status                 NaN               NaN       NaN    NaN     NaN  "
      ]
     },
     "execution_count": 209,
     "metadata": {},
     "output_type": "execute_result"
    }
   ],
   "source": [
    "sal.corr(method ='kendall') "
   ]
  },
  {
   "cell_type": "code",
   "execution_count": null,
   "metadata": {
    "colab": {},
    "colab_type": "code",
    "id": "G8SQ0NhI9nPe"
   },
   "outputs": [],
   "source": [
    "df=pd.DataFrame(data=sal['JobTitle'])\n",
    "df['TotalPay']=sal['TotalPay']\n",
    "s_corr=df.JobTitle.str.get_dummies(sep=' ').corrwith(df.TotalPay/df.TotalPay.max())\n",
    "print(s_corr)"
   ]
  },
  {
   "cell_type": "markdown",
   "metadata": {
    "colab_type": "text",
    "id": "gY4kMupD9nPg"
   },
   "source": [
    "# Great Job!"
   ]
  }
 ],
 "metadata": {
  "colab": {
   "collapsed_sections": [],
   "name": "DAwP_Assignment_2.ipynb",
   "provenance": []
  },
  "kernelspec": {
   "display_name": "Python 3",
   "language": "python",
   "name": "python3"
  },
  "language_info": {
   "codemirror_mode": {
    "name": "ipython",
    "version": 3
   },
   "file_extension": ".py",
   "mimetype": "text/x-python",
   "name": "python",
   "nbconvert_exporter": "python",
   "pygments_lexer": "ipython3",
   "version": "3.6.7"
  }
 },
 "nbformat": 4,
 "nbformat_minor": 1
}
